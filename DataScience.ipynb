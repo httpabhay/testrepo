{
 "cells": [
  {
   "cell_type": "markdown",
   "id": "d4d811ff",
   "metadata": {},
   "source": [
    "# Data Science Tools and Ecosystem"
   ]
  },
  {
   "cell_type": "markdown",
   "id": "4bac9267",
   "metadata": {},
   "source": [
    "# In this notebook, Data science tools and ecosystem are summarized"
   ]
  },
  {
   "cell_type": "markdown",
   "id": "5fbd5801",
   "metadata": {},
   "source": [
    "# **Objectives:**\n",
    "+ Python\n",
    "+ Scala\n",
    "+ Julia\n",
    "+ C++\n",
    "+ R"
   ]
  },
  {
   "cell_type": "markdown",
   "id": "84b69f0b",
   "metadata": {},
   "source": [
    "# Some of the popular languages that Data Scientist use are:\n",
    "1. Python\n",
    "2. R\n",
    "3. SQL"
   ]
  },
  {
   "cell_type": "markdown",
   "id": "beb51923",
   "metadata": {},
   "source": [
    "# Some of the commonly used libraries used by Data Scientist include:\n",
    "1. Numpy\n",
    "2. Pandas\n",
    "3. Seaborn"
   ]
  },
  {
   "cell_type": "markdown",
   "id": "67a86835",
   "metadata": {},
   "source": [
    " |Data Science Tools|\n",
    "    |------------------|\n",
    "    |Git|\n",
    "    |Kylo|\n",
    "    |MongoDB|"
   ]
  },
  {
   "cell_type": "markdown",
   "id": "68da4d25",
   "metadata": {},
   "source": [
    "### Below are few examples of evaluating arthmetic expression in Python\n",
    "x+y\n",
    "x-y\n",
    "x*y\n",
    "x/y"
   ]
  },
  {
   "cell_type": "code",
   "execution_count": 4,
   "id": "ab130614",
   "metadata": {},
   "outputs": [
    {
     "data": {
      "text/plain": [
       "17"
      ]
     },
     "execution_count": 4,
     "metadata": {},
     "output_type": "execute_result"
    }
   ],
   "source": [
    "#This a simple arthmetic expression to multiply then add integers\n",
    "(3*4)+5\n"
   ]
  },
  {
   "cell_type": "code",
   "execution_count": 5,
   "id": "91f82a6a",
   "metadata": {},
   "outputs": [
    {
     "name": "stdout",
     "output_type": "stream",
     "text": [
      "3\n"
     ]
    }
   ],
   "source": [
    "#This will convert 200 minutes into hours by dividing by 60\n",
    "total_minutes=200\n",
    "hours = total_minutes//60\n",
    "print(hours)"
   ]
  },
  {
   "cell_type": "code",
   "execution_count": null,
   "id": "21b8c140",
   "metadata": {},
   "outputs": [],
   "source": []
  }
 ],
 "metadata": {
  "kernelspec": {
   "display_name": "Python 3",
   "language": "python",
   "name": "python3"
  },
  "language_info": {
   "codemirror_mode": {
    "name": "ipython",
    "version": 3
   },
   "file_extension": ".py",
   "mimetype": "text/x-python",
   "name": "python",
   "nbconvert_exporter": "python",
   "pygments_lexer": "ipython3",
   "version": "3.8.8"
  }
 },
 "nbformat": 4,
 "nbformat_minor": 5
}
